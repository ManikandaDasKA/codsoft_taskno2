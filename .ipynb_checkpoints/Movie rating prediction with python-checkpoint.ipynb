{
 "cells": [
  {
   "cell_type": "code",
   "execution_count": 11,
   "id": "9ede5f2c-558c-4e7e-8f0d-1815b0f5ba57",
   "metadata": {},
   "outputs": [
    {
     "name": "stdout",
     "output_type": "stream",
     "text": [
      "\n",
      "Model Accuracy: 0.731966787752984\n"
     ]
    },
    {
     "name": "stdin",
     "output_type": "stream",
     "text": [
      "\n",
      "Enter the genre:  Crime, Drama, Music\n",
      "Enter the director:  Shimit Amin\n",
      "Enter the actor 1:  Nana Patekar\n"
     ]
    },
    {
     "name": "stdout",
     "output_type": "stream",
     "text": [
      "Predicted rating: Good (rating>= 7)\n"
     ]
    },
    {
     "name": "stdin",
     "output_type": "stream",
     "text": [
      "\n",
      "Enter the genre:  Drama, Horror, Thriller\n",
      "Enter the director:  Prashant Chadha\n",
      "Enter the actor 1:  Vinod Khanna\n"
     ]
    },
    {
     "name": "stdout",
     "output_type": "stream",
     "text": [
      "Predicted rating: Not Good (rating< 7)\n"
     ]
    }
   ],
   "source": [
    "import pandas as pd\n",
    "from sklearn.model_selection import train_test_split\n",
    "from sklearn.linear_model import LogisticRegression\n",
    "from sklearn.metrics import accuracy_score\n",
    "from sklearn.preprocessing import OneHotEncoder\n",
    "from imblearn.over_sampling import RandomOverSampler\n",
    "df= pd.read_csv('C:\\IMDb movies details\\IMDb Movies India.csv', encoding='cp1252')\n",
    "df = df.dropna(subset=['Genre', 'Director', 'Actor 1', 'Rating'])\n",
    "X = df[['Genre', 'Director', 'Actor 1']]\n",
    "y = df['Rating']\n",
    "y_binary = (y >= 7).astype(int)\n",
    "encoder = OneHotEncoder(handle_unknown='ignore')\n",
    "encoded_features = encoder.fit_transform(X)\n",
    "X_train, X_test, y_train, y_test = train_test_split(encoded_features, y_binary, test_size=0.5, random_state=50)\n",
    "ros = RandomOverSampler(random_state=50)\n",
    "X_train_resampled, y_train_resampled = ros.fit_resample(X_train, y_train)\n",
    "model = LogisticRegression(max_iter=1000)\n",
    "model.fit(X_train_resampled, y_train_resampled)\n",
    "y_pred = model.predict(X_test)\n",
    "accuracy = accuracy_score(y_test, y_pred)\n",
    "print(f'\\nModel Accuracy: {accuracy}')\n",
    "\n",
    "def predict_rating(genre, director, actor1):\n",
    "  input_data = pd.DataFrame({'Genre': [genre], 'Director': [director], 'Actor 1': [actor1]})\n",
    "  input_encoded = encoder.transform(input_data)\n",
    "  prediction = model.predict(input_encoded)\n",
    "  return prediction[0]\n",
    "    \n",
    "for i in range(2):\n",
    "    genre = input(\"\\nEnter the genre: \")\n",
    "    director = input(\"Enter the director: \")\n",
    "    actor1 = input(\"Enter the actor 1: \")\n",
    "    prediction = predict_rating(genre, director, actor1)\n",
    "    if prediction == 1:\n",
    "      print(\"Predicted rating: Good (rating>= 7)\")\n",
    "    else:\n",
    "      print(\"Predicted rating: Not Good (rating< 7)\")\n"
   ]
  },
  {
   "cell_type": "code",
   "execution_count": null,
   "id": "7660486c-8553-416d-b5a4-abfa14b93629",
   "metadata": {},
   "outputs": [],
   "source": []
  }
 ],
 "metadata": {
  "kernelspec": {
   "display_name": "Python 3 (ipykernel)",
   "language": "python",
   "name": "python3"
  },
  "language_info": {
   "codemirror_mode": {
    "name": "ipython",
    "version": 3
   },
   "file_extension": ".py",
   "mimetype": "text/x-python",
   "name": "python",
   "nbconvert_exporter": "python",
   "pygments_lexer": "ipython3",
   "version": "3.11.5"
  }
 },
 "nbformat": 4,
 "nbformat_minor": 5
}
